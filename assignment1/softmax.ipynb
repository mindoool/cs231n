{
 "cells": [
  {
   "cell_type": "markdown",
   "metadata": {},
   "source": [
    "# Softmax exercise\n",
    "\n",
    "*Complete and hand in this completed worksheet (including its outputs and any supporting code outside of the worksheet) with your assignment submission. For more details see the [assignments page](http://vision.stanford.edu/teaching/cs231n/assignments.html) on the course website.*\n",
    "\n",
    "This exercise is analogous to the SVM exercise. You will:\n",
    "\n",
    "- implement a fully-vectorized **loss function** for the Softmax classifier\n",
    "- implement the fully-vectorized expression for its **analytic gradient**\n",
    "- **check your implementation** with numerical gradient\n",
    "- use a validation set to **tune the learning rate and regularization** strength\n",
    "- **optimize** the loss function with **SGD**\n",
    "- **visualize** the final learned weights\n"
   ]
  },
  {
   "cell_type": "code",
   "execution_count": 2,
   "metadata": {
    "collapsed": false
   },
   "outputs": [
    {
     "name": "stdout",
     "output_type": "stream",
     "text": [
      "The autoreload extension is already loaded. To reload it, use:\n",
      "  %reload_ext autoreload\n"
     ]
    }
   ],
   "source": [
    "import random\n",
    "import numpy as np\n",
    "from cs231n.data_utils import load_CIFAR10\n",
    "import matplotlib.pyplot as plt\n",
    "\n",
    "from __future__ import print_function\n",
    "\n",
    "%matplotlib inline\n",
    "plt.rcParams['figure.figsize'] = (10.0, 8.0) # set default size of plots\n",
    "plt.rcParams['image.interpolation'] = 'nearest'\n",
    "plt.rcParams['image.cmap'] = 'gray'\n",
    "\n",
    "# for auto-reloading extenrnal modules\n",
    "# see http://stackoverflow.com/questions/1907993/autoreload-of-modules-in-ipython\n",
    "%load_ext autoreload\n",
    "%autoreload 2"
   ]
  },
  {
   "cell_type": "code",
   "execution_count": 3,
   "metadata": {
    "collapsed": false
   },
   "outputs": [
    {
     "name": "stdout",
     "output_type": "stream",
     "text": [
      "Train data shape:  (49000, 3073)\n",
      "Train labels shape:  (49000,)\n",
      "Validation data shape:  (1000, 3073)\n",
      "Validation labels shape:  (1000,)\n",
      "Test data shape:  (1000, 3073)\n",
      "Test labels shape:  (1000,)\n",
      "dev data shape:  (500, 3073)\n",
      "dev labels shape:  (500,)\n"
     ]
    }
   ],
   "source": [
    "def get_CIFAR10_data(num_training=49000, num_validation=1000, num_test=1000, num_dev=500):\n",
    "    \"\"\"\n",
    "    Load the CIFAR-10 dataset from disk and perform preprocessing to prepare\n",
    "    it for the linear classifier. These are the same steps as we used for the\n",
    "    SVM, but condensed to a single function.  \n",
    "    \"\"\"\n",
    "    # Load the raw CIFAR-10 data\n",
    "    cifar10_dir = 'cs231n/datasets/cifar-10-batches-py'\n",
    "    X_train, y_train, X_test, y_test = load_CIFAR10(cifar10_dir)\n",
    "    \n",
    "    # subsample the data\n",
    "    mask = list(range(num_training, num_training + num_validation))\n",
    "    X_val = X_train[mask]\n",
    "    y_val = y_train[mask]\n",
    "    mask = list(range(num_training))\n",
    "    X_train = X_train[mask]\n",
    "    y_train = y_train[mask]\n",
    "    mask = list(range(num_test))\n",
    "    X_test = X_test[mask]\n",
    "    y_test = y_test[mask]\n",
    "    mask = np.random.choice(num_training, num_dev, replace=False)\n",
    "    X_dev = X_train[mask]\n",
    "    y_dev = y_train[mask]\n",
    "    \n",
    "    # Preprocessing: reshape the image data into rows\n",
    "    X_train = np.reshape(X_train, (X_train.shape[0], -1))\n",
    "    X_val = np.reshape(X_val, (X_val.shape[0], -1))\n",
    "    X_test = np.reshape(X_test, (X_test.shape[0], -1))\n",
    "    X_dev = np.reshape(X_dev, (X_dev.shape[0], -1))\n",
    "    \n",
    "    # Normalize the data: subtract the mean image\n",
    "    mean_image = np.mean(X_train, axis = 0)\n",
    "    X_train -= mean_image\n",
    "    X_val -= mean_image\n",
    "    X_test -= mean_image\n",
    "    X_dev -= mean_image\n",
    "    \n",
    "    # add bias dimension and transform into columns\n",
    "    X_train = np.hstack([X_train, np.ones((X_train.shape[0], 1))])\n",
    "    X_val = np.hstack([X_val, np.ones((X_val.shape[0], 1))])\n",
    "    X_test = np.hstack([X_test, np.ones((X_test.shape[0], 1))])\n",
    "    X_dev = np.hstack([X_dev, np.ones((X_dev.shape[0], 1))])\n",
    "    \n",
    "    return X_train, y_train, X_val, y_val, X_test, y_test, X_dev, y_dev\n",
    "\n",
    "\n",
    "# Invoke the above function to get our data.\n",
    "X_train, y_train, X_val, y_val, X_test, y_test, X_dev, y_dev = get_CIFAR10_data()\n",
    "print('Train data shape: ', X_train.shape)\n",
    "print('Train labels shape: ', y_train.shape)\n",
    "print('Validation data shape: ', X_val.shape)\n",
    "print('Validation labels shape: ', y_val.shape)\n",
    "print('Test data shape: ', X_test.shape)\n",
    "print('Test labels shape: ', y_test.shape)\n",
    "print('dev data shape: ', X_dev.shape)\n",
    "print('dev labels shape: ', y_dev.shape)"
   ]
  },
  {
   "cell_type": "markdown",
   "metadata": {},
   "source": [
    "## Softmax Classifier\n",
    "\n",
    "Your code for this section will all be written inside **cs231n/classifiers/softmax.py**. \n"
   ]
  },
  {
   "cell_type": "code",
   "execution_count": 12,
   "metadata": {
    "collapsed": false
   },
   "outputs": [
    {
     "name": "stdout",
     "output_type": "stream",
     "text": [
      "loss: 2.414437\n",
      "sanity check: 2.302585\n"
     ]
    }
   ],
   "source": [
    "# First implement the naive softmax loss function with nested loops.\n",
    "# Open the file cs231n/classifiers/softmax.py and implement the\n",
    "# softmax_loss_naive function.\n",
    "\n",
    "from cs231n.classifiers.softmax import softmax_loss_naive\n",
    "import time\n",
    "\n",
    "# Generate a random softmax weight matrix and use it to compute the loss.\n",
    "W = np.random.randn(3073, 10) * 0.0001\n",
    "loss, grad = softmax_loss_naive(W, X_dev, y_dev, 0.0)\n",
    "\n",
    "# As a rough sanity check, our loss should be something close to -log(0.1).\n",
    "print('loss: %f' % loss)\n",
    "print('sanity check: %f' % (-np.log(0.1)))"
   ]
  },
  {
   "cell_type": "markdown",
   "metadata": {},
   "source": [
    "## Inline Question 1:\n",
    "Why do we expect our loss to be close to -log(0.1)? Explain briefly.**\n",
    "\n",
    "**Your answer:** *Fill this in*\n"
   ]
  },
  {
   "cell_type": "code",
   "execution_count": 13,
   "metadata": {
    "collapsed": false
   },
   "outputs": [
    {
     "name": "stdout",
     "output_type": "stream",
     "text": [
      "numerical: -0.566829 analytic: -0.566829, relative error: 8.853114e-08\n",
      "numerical: 0.552986 analytic: 0.552986, relative error: 6.156036e-09\n",
      "numerical: -1.792810 analytic: -1.792810, relative error: 2.990588e-09\n",
      "numerical: -1.355978 analytic: -1.355978, relative error: 9.994473e-09\n",
      "numerical: 4.721596 analytic: 4.721596, relative error: 2.036240e-08\n",
      "numerical: -1.363022 analytic: -1.363022, relative error: 5.819460e-09\n",
      "numerical: -0.006799 analytic: -0.006799, relative error: 5.196372e-06\n",
      "numerical: -0.820552 analytic: -0.820551, relative error: 3.388087e-08\n",
      "numerical: 0.587845 analytic: 0.587845, relative error: 1.310464e-07\n",
      "numerical: -2.354003 analytic: -2.354003, relative error: 2.712678e-08\n",
      "numerical: 1.974245 analytic: 1.974245, relative error: 2.210503e-08\n",
      "numerical: 3.759036 analytic: 3.759036, relative error: 2.371852e-08\n",
      "numerical: -0.717871 analytic: -0.717871, relative error: 8.025592e-08\n",
      "numerical: 2.477058 analytic: 2.477058, relative error: 4.506617e-08\n",
      "numerical: 3.328225 analytic: 3.328225, relative error: 2.215291e-08\n",
      "numerical: -3.068299 analytic: -3.068299, relative error: 1.590323e-08\n",
      "numerical: 4.111718 analytic: 4.111717, relative error: 1.837262e-08\n",
      "numerical: 3.150442 analytic: 3.150442, relative error: 1.656579e-08\n",
      "numerical: 1.399232 analytic: 1.399232, relative error: 3.442744e-08\n",
      "numerical: -0.509517 analytic: -0.509517, relative error: 5.443541e-08\n"
     ]
    }
   ],
   "source": [
    "# Complete the implementation of softmax_loss_naive and implement a (naive)\n",
    "# version of the gradient that uses nested loops.\n",
    "loss, grad = softmax_loss_naive(W, X_dev, y_dev, 0.0)\n",
    "\n",
    "# As we did for the SVM, use numeric gradient checking as a debugging tool.\n",
    "# The numeric gradient should be close to the analytic gradient.\n",
    "from cs231n.gradient_check import grad_check_sparse\n",
    "f = lambda w: softmax_loss_naive(w, X_dev, y_dev, 0.0)[0]\n",
    "grad_numerical = grad_check_sparse(f, W, grad, 10)\n",
    "\n",
    "# similar to SVM case, do another gradient check with regularization\n",
    "loss, grad = softmax_loss_naive(W, X_dev, y_dev, 5e1)\n",
    "f = lambda w: softmax_loss_naive(w, X_dev, y_dev, 5e1)[0]\n",
    "grad_numerical = grad_check_sparse(f, W, grad, 10)"
   ]
  },
  {
   "cell_type": "code",
   "execution_count": 23,
   "metadata": {
    "collapsed": false
   },
   "outputs": [
    {
     "name": "stdout",
     "output_type": "stream",
     "text": [
      "naive loss: 2.414437e+00 computed in 0.011061s\n"
     ]
    },
    {
     "ename": "TypeError",
     "evalue": "'tuple' object is not callable",
     "output_type": "error",
     "traceback": [
      "\u001b[0;31m---------------------------------------------------------------------------\u001b[0m",
      "\u001b[0;31mTypeError\u001b[0m                                 Traceback (most recent call last)",
      "\u001b[0;32m<ipython-input-23-361e68672c60>\u001b[0m in \u001b[0;36m<module>\u001b[0;34m()\u001b[0m\n\u001b[1;32m     10\u001b[0m \u001b[1;32mfrom\u001b[0m \u001b[0mcs231n\u001b[0m\u001b[1;33m.\u001b[0m\u001b[0mclassifiers\u001b[0m\u001b[1;33m.\u001b[0m\u001b[0msoftmax\u001b[0m \u001b[1;32mimport\u001b[0m \u001b[0msoftmax_loss_vectorized\u001b[0m\u001b[1;33m\u001b[0m\u001b[0m\n\u001b[1;32m     11\u001b[0m \u001b[0mtic\u001b[0m \u001b[1;33m=\u001b[0m \u001b[0mtime\u001b[0m\u001b[1;33m.\u001b[0m\u001b[0mtime\u001b[0m\u001b[1;33m(\u001b[0m\u001b[1;33m)\u001b[0m\u001b[1;33m\u001b[0m\u001b[0m\n\u001b[0;32m---> 12\u001b[0;31m \u001b[0mloss_vectorized\u001b[0m\u001b[1;33m,\u001b[0m \u001b[0mgrad_vectorized\u001b[0m \u001b[1;33m=\u001b[0m \u001b[0msoftmax_loss_vectorized\u001b[0m\u001b[1;33m(\u001b[0m\u001b[0mW\u001b[0m\u001b[1;33m,\u001b[0m \u001b[0mX_dev\u001b[0m\u001b[1;33m,\u001b[0m \u001b[0my_dev\u001b[0m\u001b[1;33m,\u001b[0m \u001b[1;36m0.000005\u001b[0m\u001b[1;33m)\u001b[0m\u001b[1;33m\u001b[0m\u001b[0m\n\u001b[0m\u001b[1;32m     13\u001b[0m \u001b[0mtoc\u001b[0m \u001b[1;33m=\u001b[0m \u001b[0mtime\u001b[0m\u001b[1;33m.\u001b[0m\u001b[0mtime\u001b[0m\u001b[1;33m(\u001b[0m\u001b[1;33m)\u001b[0m\u001b[1;33m\u001b[0m\u001b[0m\n\u001b[1;32m     14\u001b[0m \u001b[0mprint\u001b[0m\u001b[1;33m(\u001b[0m\u001b[1;34m'vectorized loss: %e computed in %fs'\u001b[0m \u001b[1;33m%\u001b[0m \u001b[1;33m(\u001b[0m\u001b[0mloss_vectorized\u001b[0m\u001b[1;33m,\u001b[0m \u001b[0mtoc\u001b[0m \u001b[1;33m-\u001b[0m \u001b[0mtic\u001b[0m\u001b[1;33m)\u001b[0m\u001b[1;33m)\u001b[0m\u001b[1;33m\u001b[0m\u001b[0m\n",
      "\u001b[0;32mD:\\CS231n\\Assignment\\assignment1\\cs231n\\classifiers\\softmax.py\u001b[0m in \u001b[0;36msoftmax_loss_vectorized\u001b[0;34m(W, X, y, reg)\u001b[0m\n\u001b[1;32m     83\u001b[0m     \u001b[1;31m# regularization!                                                           #\u001b[0m\u001b[1;33m\u001b[0m\u001b[1;33m\u001b[0m\u001b[0m\n\u001b[1;32m     84\u001b[0m     \u001b[1;31m##########################################################################\u001b[0m\u001b[1;33m\u001b[0m\u001b[1;33m\u001b[0m\u001b[0m\n\u001b[0;32m---> 85\u001b[0;31m     \u001b[0mnum_train\u001b[0m \u001b[1;33m=\u001b[0m \u001b[0mX\u001b[0m\u001b[1;33m.\u001b[0m\u001b[0mshape\u001b[0m\u001b[1;33m(\u001b[0m\u001b[1;36m0\u001b[0m\u001b[1;33m)\u001b[0m\u001b[1;33m\u001b[0m\u001b[0m\n\u001b[0m\u001b[1;32m     86\u001b[0m     \u001b[0mnum_class\u001b[0m \u001b[1;33m=\u001b[0m \u001b[0mW\u001b[0m\u001b[1;33m.\u001b[0m\u001b[0mshape\u001b[0m\u001b[1;33m(\u001b[0m\u001b[1;36m1\u001b[0m\u001b[1;33m)\u001b[0m\u001b[1;33m\u001b[0m\u001b[0m\n\u001b[1;32m     87\u001b[0m \u001b[1;33m\u001b[0m\u001b[0m\n",
      "\u001b[0;31mTypeError\u001b[0m: 'tuple' object is not callable"
     ]
    }
   ],
   "source": [
    "# Now that we have a naive implementation of the softmax loss function and its gradient,\n",
    "# implement a vectorized version in softmax_loss_vectorized.\n",
    "# The two versions should compute the same results, but the vectorized version should be\n",
    "# much faster.\n",
    "tic = time.time()\n",
    "loss_naive, grad_naive = softmax_loss_naive(W, X_dev, y_dev, 0.000005)\n",
    "toc = time.time()\n",
    "print('naive loss: %e computed in %fs' % (loss_naive, toc - tic))\n",
    "\n",
    "from cs231n.classifiers.softmax import softmax_loss_vectorized\n",
    "tic = time.time()\n",
    "loss_vectorized, grad_vectorized = softmax_loss_vectorized(W, X_dev, y_dev, 0.000005)\n",
    "toc = time.time()\n",
    "print('vectorized loss: %e computed in %fs' % (loss_vectorized, toc - tic))\n",
    "\n",
    "# As we did for the SVM, we use the Frobenius norm to compare the two versions\n",
    "# of the gradient.\n",
    "grad_difference = np.linalg.norm(grad_naive - grad_vectorized, ord='fro')\n",
    "print('Loss difference: %f' % np.abs(loss_naive - loss_vectorized))\n",
    "print('Gradient difference: %f' % grad_difference)"
   ]
  },
  {
   "cell_type": "code",
   "execution_count": 22,
   "metadata": {
    "collapsed": false
   },
   "outputs": [
    {
     "name": "stdout",
     "output_type": "stream",
     "text": [
      "lr 1.581886e-08 reg 3.677392e+04 train accuracy: 0.079367 val accuracy: 0.069000\n",
      "lr 1.593113e-08 reg 1.410317e+04 train accuracy: 0.122327 val accuracy: 0.125000\n",
      "lr 1.936225e-08 reg 4.269546e+04 train accuracy: 0.092755 val accuracy: 0.093000\n",
      "lr 2.435857e-08 reg 3.697368e+04 train accuracy: 0.083367 val accuracy: 0.083000\n",
      "lr 2.720565e-08 reg 4.033553e+04 train accuracy: 0.069408 val accuracy: 0.069000\n",
      "lr 3.862834e-08 reg 2.349846e+04 train accuracy: 0.102449 val accuracy: 0.119000\n",
      "lr 4.110215e-08 reg 4.261522e+04 train accuracy: 0.067551 val accuracy: 0.067000\n",
      "lr 5.402586e-08 reg 9.083805e+03 train accuracy: 0.103980 val accuracy: 0.101000\n",
      "lr 5.781779e-08 reg 1.649586e+04 train accuracy: 0.077041 val accuracy: 0.078000\n",
      "lr 6.047932e-08 reg 8.502264e+03 train accuracy: 0.109163 val accuracy: 0.121000\n",
      "lr 7.446414e-08 reg 8.275218e+03 train accuracy: 0.093286 val accuracy: 0.115000\n",
      "lr 1.046727e-07 reg 3.382042e+04 train accuracy: 0.149898 val accuracy: 0.149000\n",
      "lr 1.075320e-07 reg 9.127523e+03 train accuracy: 0.118571 val accuracy: 0.102000\n",
      "lr 1.118780e-07 reg 4.947586e+04 train accuracy: 0.077490 val accuracy: 0.067000\n",
      "lr 1.220796e-07 reg 2.332636e+04 train accuracy: 0.077755 val accuracy: 0.075000\n",
      "lr 1.558507e-07 reg 6.621324e+03 train accuracy: 0.092184 val accuracy: 0.086000\n",
      "lr 1.587269e-07 reg 9.514465e+02 train accuracy: 0.084020 val accuracy: 0.097000\n",
      "lr 1.614206e-07 reg 4.572917e+03 train accuracy: 0.075143 val accuracy: 0.082000\n",
      "lr 1.619117e-07 reg 5.953347e+03 train accuracy: 0.107143 val accuracy: 0.109000\n",
      "lr 1.679319e-07 reg 4.786765e+03 train accuracy: 0.101265 val accuracy: 0.094000\n",
      "lr 1.746377e-07 reg 3.457472e+04 train accuracy: 0.111959 val accuracy: 0.117000\n",
      "lr 1.799900e-07 reg 1.607213e+04 train accuracy: 0.076735 val accuracy: 0.077000\n",
      "lr 1.852222e-07 reg 3.014622e+04 train accuracy: 0.110245 val accuracy: 0.096000\n",
      "lr 1.859304e-07 reg 4.932368e+04 train accuracy: 0.073082 val accuracy: 0.066000\n",
      "lr 1.892225e-07 reg 2.192766e+03 train accuracy: 0.087878 val accuracy: 0.071000\n",
      "lr 2.051248e-07 reg 1.311988e+04 train accuracy: 0.076531 val accuracy: 0.081000\n",
      "lr 2.286463e-07 reg 2.418729e+04 train accuracy: 0.105694 val accuracy: 0.096000\n",
      "lr 2.421451e-07 reg 2.477430e+04 train accuracy: 0.100857 val accuracy: 0.103000\n",
      "lr 2.480498e-07 reg 4.830504e+04 train accuracy: 0.076388 val accuracy: 0.081000\n",
      "lr 2.566473e-07 reg 2.862238e+04 train accuracy: 0.104980 val accuracy: 0.084000\n",
      "lr 2.696751e-07 reg 1.011268e+04 train accuracy: 0.130347 val accuracy: 0.122000\n",
      "lr 2.866624e-07 reg 5.445998e+03 train accuracy: 0.117224 val accuracy: 0.116000\n",
      "lr 2.931288e-07 reg 1.252902e+04 train accuracy: 0.087347 val accuracy: 0.086000\n",
      "lr 3.102516e-07 reg 2.579807e+04 train accuracy: 0.099694 val accuracy: 0.087000\n",
      "lr 3.299327e-07 reg 1.774997e+04 train accuracy: 0.093633 val accuracy: 0.077000\n",
      "lr 3.432411e-07 reg 2.468420e+04 train accuracy: 0.136490 val accuracy: 0.120000\n",
      "lr 3.453022e-07 reg 3.152348e+04 train accuracy: 0.124633 val accuracy: 0.119000\n",
      "lr 3.545380e-07 reg 2.313407e+04 train accuracy: 0.086306 val accuracy: 0.088000\n",
      "lr 3.710420e-07 reg 8.442938e+03 train accuracy: 0.079878 val accuracy: 0.085000\n",
      "lr 3.792688e-07 reg 1.721158e+04 train accuracy: 0.116755 val accuracy: 0.138000\n",
      "lr 4.035008e-07 reg 5.664797e+03 train accuracy: 0.105388 val accuracy: 0.102000\n",
      "lr 4.137376e-07 reg 4.106122e+04 train accuracy: 0.097469 val accuracy: 0.098000\n",
      "lr 4.182561e-07 reg 2.443987e+04 train accuracy: 0.117673 val accuracy: 0.114000\n",
      "lr 4.304364e-07 reg 3.656354e+03 train accuracy: 0.092857 val accuracy: 0.099000\n",
      "lr 4.508033e-07 reg 4.927497e+04 train accuracy: 0.096694 val accuracy: 0.098000\n",
      "lr 4.678424e-07 reg 5.661952e+03 train accuracy: 0.091531 val accuracy: 0.091000\n",
      "lr 4.728386e-07 reg 1.444585e+04 train accuracy: 0.092347 val accuracy: 0.083000\n",
      "lr 4.749156e-07 reg 1.679352e+04 train accuracy: 0.082408 val accuracy: 0.075000\n",
      "lr 4.901683e-07 reg 4.577151e+04 train accuracy: 0.068796 val accuracy: 0.072000\n",
      "lr 4.908187e-07 reg 4.053555e+04 train accuracy: 0.080265 val accuracy: 0.075000\n",
      "best validation accuracy achieved during cross-validation: 0.149000\n"
     ]
    }
   ],
   "source": [
    "# Use the validation set to tune hyperparameters (regularization strength and\n",
    "# learning rate). You should experiment with different ranges for the learning\n",
    "# rates and regularization strengths; if you are careful you should be able to\n",
    "# get a classification accuracy of over 0.35 on the validation set.\n",
    "from cs231n.classifiers import Softmax\n",
    "results = {}\n",
    "best_val = -1\n",
    "best_softmax = None\n",
    "learning_rates = np.random.uniform(1e-10, 5e-7, 50) #1e-7, 5e-7 \n",
    "regularization_strengths = np.random.uniform(2.5e2, 5e4, 50) #2.5e4, 5e4\n",
    "\n",
    "################################################################################\n",
    "# TODO:                                                                        #\n",
    "# Use the validation set to set the learning rate and regularization strength. #\n",
    "# This should be identical to the validation that you did for the SVM; save    #\n",
    "# the best trained softmax classifer in best_softmax.                          #\n",
    "################################################################################\n",
    "for lr, reg in zip(learning_rates,regularization_strengths):\n",
    "\n",
    "    softmax = Softmax()\n",
    "    softmax.train(X_train, y_train, lr, reg, 1000)\n",
    "\n",
    "    y_train_pred = softmax.predict(X_train)\n",
    "    y_val_pred = softmax.predict(X_val)\n",
    "\n",
    "    results[(lr,reg)] = (np.mean(y_train == y_train_pred), np.mean(y_val == y_val_pred))\n",
    "\n",
    "    if best_val < np.mean(y_val == y_val_pred):\n",
    "        best_val = np.mean(y_val == y_val_pred)\n",
    "        best_softmax = softmax\n",
    "################################################################################\n",
    "#                              END OF YOUR CODE                                #\n",
    "################################################################################\n",
    "    \n",
    "# Print out results.\n",
    "for lr, reg in sorted(results):\n",
    "    train_accuracy, val_accuracy = results[(lr, reg)]\n",
    "    print('lr %e reg %e train accuracy: %f val accuracy: %f' % (\n",
    "                lr, reg, train_accuracy, val_accuracy))\n",
    "    \n",
    "print('best validation accuracy achieved during cross-validation: %f' % best_val)"
   ]
  },
  {
   "cell_type": "code",
   "execution_count": null,
   "metadata": {
    "collapsed": false
   },
   "outputs": [],
   "source": [
    "# evaluate on test set\n",
    "# Evaluate the best softmax on test set\n",
    "y_test_pred = best_softmax.predict(X_test)\n",
    "test_accuracy = np.mean(y_test == y_test_pred)\n",
    "print('softmax on raw pixels final test set accuracy: %f' % (test_accuracy, ))"
   ]
  },
  {
   "cell_type": "code",
   "execution_count": null,
   "metadata": {
    "collapsed": false
   },
   "outputs": [],
   "source": [
    "# Visualize the learned weights for each class\n",
    "w = best_softmax.W[:-1,:] # strip out the bias\n",
    "w = w.reshape(32, 32, 3, 10)\n",
    "\n",
    "w_min, w_max = np.min(w), np.max(w)\n",
    "\n",
    "classes = ['plane', 'car', 'bird', 'cat', 'deer', 'dog', 'frog', 'horse', 'ship', 'truck']\n",
    "for i in range(10):\n",
    "    plt.subplot(2, 5, i + 1)\n",
    "    \n",
    "    # Rescale the weights to be between 0 and 255\n",
    "    wimg = 255.0 * (w[:, :, :, i].squeeze() - w_min) / (w_max - w_min)\n",
    "    plt.imshow(wimg.astype('uint8'))\n",
    "    plt.axis('off')\n",
    "    plt.title(classes[i])"
   ]
  }
 ],
 "metadata": {
  "anaconda-cloud": {},
  "kernelspec": {
   "display_name": "Python [default]",
   "language": "python",
   "name": "python3"
  },
  "language_info": {
   "codemirror_mode": {
    "name": "ipython",
    "version": 3
   },
   "file_extension": ".py",
   "mimetype": "text/x-python",
   "name": "python",
   "nbconvert_exporter": "python",
   "pygments_lexer": "ipython3",
   "version": "3.5.2"
  }
 },
 "nbformat": 4,
 "nbformat_minor": 0
}
